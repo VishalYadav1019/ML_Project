{
 "cells": [
  {
   "cell_type": "code",
   "execution_count": 1,
   "id": "9ae021f5",
   "metadata": {},
   "outputs": [],
   "source": [
    "import pandas as pd\n",
    "import numpy as np\n",
    "import seaborn as sns\n",
    "import matplotlib.pyplot as plt\n",
    "import warnings\n",
    "warnings.filterwarnings(\"ignore\")"
   ]
  },
  {
   "cell_type": "markdown",
   "id": "3f1e0cb9-2cde-4540-ae22-401c59ea8b4c",
   "metadata": {},
   "source": [
    "# Data Exploration"
   ]
  },
  {
   "cell_type": "code",
   "execution_count": 2,
   "id": "0c2202c7",
   "metadata": {},
   "outputs": [],
   "source": [
    "df=pd.read_csv(\"synthetic_fraud_dataset.csv\")"
   ]
  },
  {
   "cell_type": "code",
   "execution_count": 3,
   "id": "f7f7f23a",
   "metadata": {},
   "outputs": [
    {
     "data": {
      "text/html": [
       "<div>\n",
       "<style scoped>\n",
       "    .dataframe tbody tr th:only-of-type {\n",
       "        vertical-align: middle;\n",
       "    }\n",
       "\n",
       "    .dataframe tbody tr th {\n",
       "        vertical-align: top;\n",
       "    }\n",
       "\n",
       "    .dataframe thead th {\n",
       "        text-align: right;\n",
       "    }\n",
       "</style>\n",
       "<table border=\"1\" class=\"dataframe\">\n",
       "  <thead>\n",
       "    <tr style=\"text-align: right;\">\n",
       "      <th></th>\n",
       "      <th>Transaction_ID</th>\n",
       "      <th>User_ID</th>\n",
       "      <th>Transaction_Amount</th>\n",
       "      <th>Transaction_Type</th>\n",
       "      <th>Timestamp</th>\n",
       "      <th>Account_Balance</th>\n",
       "      <th>Device_Type</th>\n",
       "      <th>Location</th>\n",
       "      <th>Merchant_Category</th>\n",
       "      <th>IP_Address_Flag</th>\n",
       "      <th>...</th>\n",
       "      <th>Daily_Transaction_Count</th>\n",
       "      <th>Avg_Transaction_Amount_7d</th>\n",
       "      <th>Failed_Transaction_Count_7d</th>\n",
       "      <th>Card_Type</th>\n",
       "      <th>Card_Age</th>\n",
       "      <th>Transaction_Distance</th>\n",
       "      <th>Authentication_Method</th>\n",
       "      <th>Risk_Score</th>\n",
       "      <th>Is_Weekend</th>\n",
       "      <th>Fraud_Label</th>\n",
       "    </tr>\n",
       "  </thead>\n",
       "  <tbody>\n",
       "    <tr>\n",
       "      <th>0</th>\n",
       "      <td>TXN_33553</td>\n",
       "      <td>USER_1834</td>\n",
       "      <td>39.79</td>\n",
       "      <td>POS</td>\n",
       "      <td>2023-08-14 19:30:00</td>\n",
       "      <td>93213.17</td>\n",
       "      <td>Laptop</td>\n",
       "      <td>Sydney</td>\n",
       "      <td>Travel</td>\n",
       "      <td>0</td>\n",
       "      <td>...</td>\n",
       "      <td>7</td>\n",
       "      <td>437.63</td>\n",
       "      <td>3</td>\n",
       "      <td>Amex</td>\n",
       "      <td>65</td>\n",
       "      <td>883.17</td>\n",
       "      <td>Biometric</td>\n",
       "      <td>0.8494</td>\n",
       "      <td>0</td>\n",
       "      <td>0</td>\n",
       "    </tr>\n",
       "    <tr>\n",
       "      <th>1</th>\n",
       "      <td>TXN_9427</td>\n",
       "      <td>USER_7875</td>\n",
       "      <td>1.19</td>\n",
       "      <td>Bank Transfer</td>\n",
       "      <td>2023-06-07 04:01:00</td>\n",
       "      <td>75725.25</td>\n",
       "      <td>Mobile</td>\n",
       "      <td>New York</td>\n",
       "      <td>Clothing</td>\n",
       "      <td>0</td>\n",
       "      <td>...</td>\n",
       "      <td>13</td>\n",
       "      <td>478.76</td>\n",
       "      <td>4</td>\n",
       "      <td>Mastercard</td>\n",
       "      <td>186</td>\n",
       "      <td>2203.36</td>\n",
       "      <td>Password</td>\n",
       "      <td>0.0959</td>\n",
       "      <td>0</td>\n",
       "      <td>1</td>\n",
       "    </tr>\n",
       "    <tr>\n",
       "      <th>2</th>\n",
       "      <td>TXN_199</td>\n",
       "      <td>USER_2734</td>\n",
       "      <td>28.96</td>\n",
       "      <td>Online</td>\n",
       "      <td>2023-06-20 15:25:00</td>\n",
       "      <td>1588.96</td>\n",
       "      <td>Tablet</td>\n",
       "      <td>Mumbai</td>\n",
       "      <td>Restaurants</td>\n",
       "      <td>0</td>\n",
       "      <td>...</td>\n",
       "      <td>14</td>\n",
       "      <td>50.01</td>\n",
       "      <td>4</td>\n",
       "      <td>Visa</td>\n",
       "      <td>226</td>\n",
       "      <td>1909.29</td>\n",
       "      <td>Biometric</td>\n",
       "      <td>0.8400</td>\n",
       "      <td>0</td>\n",
       "      <td>1</td>\n",
       "    </tr>\n",
       "    <tr>\n",
       "      <th>3</th>\n",
       "      <td>TXN_12447</td>\n",
       "      <td>USER_2617</td>\n",
       "      <td>254.32</td>\n",
       "      <td>ATM Withdrawal</td>\n",
       "      <td>2023-12-07 00:31:00</td>\n",
       "      <td>76807.20</td>\n",
       "      <td>Tablet</td>\n",
       "      <td>New York</td>\n",
       "      <td>Clothing</td>\n",
       "      <td>0</td>\n",
       "      <td>...</td>\n",
       "      <td>8</td>\n",
       "      <td>182.48</td>\n",
       "      <td>4</td>\n",
       "      <td>Visa</td>\n",
       "      <td>76</td>\n",
       "      <td>1311.86</td>\n",
       "      <td>OTP</td>\n",
       "      <td>0.7935</td>\n",
       "      <td>0</td>\n",
       "      <td>1</td>\n",
       "    </tr>\n",
       "    <tr>\n",
       "      <th>4</th>\n",
       "      <td>TXN_39489</td>\n",
       "      <td>USER_2014</td>\n",
       "      <td>31.28</td>\n",
       "      <td>POS</td>\n",
       "      <td>2023-11-11 23:44:00</td>\n",
       "      <td>92354.66</td>\n",
       "      <td>Mobile</td>\n",
       "      <td>Mumbai</td>\n",
       "      <td>Electronics</td>\n",
       "      <td>0</td>\n",
       "      <td>...</td>\n",
       "      <td>14</td>\n",
       "      <td>328.69</td>\n",
       "      <td>4</td>\n",
       "      <td>Mastercard</td>\n",
       "      <td>140</td>\n",
       "      <td>966.98</td>\n",
       "      <td>Password</td>\n",
       "      <td>0.3819</td>\n",
       "      <td>1</td>\n",
       "      <td>1</td>\n",
       "    </tr>\n",
       "  </tbody>\n",
       "</table>\n",
       "<p>5 rows × 21 columns</p>\n",
       "</div>"
      ],
      "text/plain": [
       "  Transaction_ID    User_ID  Transaction_Amount Transaction_Type  \\\n",
       "0      TXN_33553  USER_1834               39.79              POS   \n",
       "1       TXN_9427  USER_7875                1.19    Bank Transfer   \n",
       "2        TXN_199  USER_2734               28.96           Online   \n",
       "3      TXN_12447  USER_2617              254.32   ATM Withdrawal   \n",
       "4      TXN_39489  USER_2014               31.28              POS   \n",
       "\n",
       "             Timestamp  Account_Balance Device_Type  Location  \\\n",
       "0  2023-08-14 19:30:00         93213.17      Laptop    Sydney   \n",
       "1  2023-06-07 04:01:00         75725.25      Mobile  New York   \n",
       "2  2023-06-20 15:25:00          1588.96      Tablet    Mumbai   \n",
       "3  2023-12-07 00:31:00         76807.20      Tablet  New York   \n",
       "4  2023-11-11 23:44:00         92354.66      Mobile    Mumbai   \n",
       "\n",
       "  Merchant_Category  IP_Address_Flag  ...  Daily_Transaction_Count  \\\n",
       "0            Travel                0  ...                        7   \n",
       "1          Clothing                0  ...                       13   \n",
       "2       Restaurants                0  ...                       14   \n",
       "3          Clothing                0  ...                        8   \n",
       "4       Electronics                0  ...                       14   \n",
       "\n",
       "   Avg_Transaction_Amount_7d  Failed_Transaction_Count_7d   Card_Type  \\\n",
       "0                     437.63                            3        Amex   \n",
       "1                     478.76                            4  Mastercard   \n",
       "2                      50.01                            4        Visa   \n",
       "3                     182.48                            4        Visa   \n",
       "4                     328.69                            4  Mastercard   \n",
       "\n",
       "  Card_Age  Transaction_Distance  Authentication_Method Risk_Score  \\\n",
       "0       65                883.17              Biometric     0.8494   \n",
       "1      186               2203.36               Password     0.0959   \n",
       "2      226               1909.29              Biometric     0.8400   \n",
       "3       76               1311.86                    OTP     0.7935   \n",
       "4      140                966.98               Password     0.3819   \n",
       "\n",
       "   Is_Weekend  Fraud_Label  \n",
       "0           0            0  \n",
       "1           0            1  \n",
       "2           0            1  \n",
       "3           0            1  \n",
       "4           1            1  \n",
       "\n",
       "[5 rows x 21 columns]"
      ]
     },
     "execution_count": 3,
     "metadata": {},
     "output_type": "execute_result"
    }
   ],
   "source": [
    "df.head()"
   ]
  },
  {
   "cell_type": "markdown",
   "id": "e212f4cb-5263-4765-9be5-d7abe6f86052",
   "metadata": {},
   "source": [
    "Displays the first few rows of the dataset to understand its structure."
   ]
  },
  {
   "cell_type": "code",
   "execution_count": 4,
   "id": "c6d269fc",
   "metadata": {},
   "outputs": [
    {
     "data": {
      "text/plain": [
       "(50000, 21)"
      ]
     },
     "execution_count": 4,
     "metadata": {},
     "output_type": "execute_result"
    }
   ],
   "source": [
    "df.shape"
   ]
  },
  {
   "cell_type": "markdown",
   "id": "ccd8a4ff-510c-4840-87c8-e673b279cb55",
   "metadata": {},
   "source": [
    "Shows the number of rows and columns to understand dataset size."
   ]
  },
  {
   "cell_type": "code",
   "execution_count": 5,
   "id": "14e186f7",
   "metadata": {},
   "outputs": [
    {
     "data": {
      "text/plain": [
       "Index(['Transaction_ID', 'User_ID', 'Transaction_Amount', 'Transaction_Type',\n",
       "       'Timestamp', 'Account_Balance', 'Device_Type', 'Location',\n",
       "       'Merchant_Category', 'IP_Address_Flag', 'Previous_Fraudulent_Activity',\n",
       "       'Daily_Transaction_Count', 'Avg_Transaction_Amount_7d',\n",
       "       'Failed_Transaction_Count_7d', 'Card_Type', 'Card_Age',\n",
       "       'Transaction_Distance', 'Authentication_Method', 'Risk_Score',\n",
       "       'Is_Weekend', 'Fraud_Label'],\n",
       "      dtype='object')"
      ]
     },
     "execution_count": 5,
     "metadata": {},
     "output_type": "execute_result"
    }
   ],
   "source": [
    "df.columns"
   ]
  },
  {
   "cell_type": "code",
   "execution_count": 6,
   "id": "5491622b",
   "metadata": {},
   "outputs": [],
   "source": [
    "df['Timestamp'] = pd.to_datetime(df['Timestamp'], errors='coerce')"
   ]
  },
  {
   "cell_type": "code",
   "execution_count": 7,
   "id": "486809b1",
   "metadata": {},
   "outputs": [
    {
     "name": "stdout",
     "output_type": "stream",
     "text": [
      "<class 'pandas.core.frame.DataFrame'>\n",
      "RangeIndex: 50000 entries, 0 to 49999\n",
      "Data columns (total 21 columns):\n",
      " #   Column                        Non-Null Count  Dtype         \n",
      "---  ------                        --------------  -----         \n",
      " 0   Transaction_ID                50000 non-null  object        \n",
      " 1   User_ID                       50000 non-null  object        \n",
      " 2   Transaction_Amount            50000 non-null  float64       \n",
      " 3   Transaction_Type              50000 non-null  object        \n",
      " 4   Timestamp                     50000 non-null  datetime64[ns]\n",
      " 5   Account_Balance               50000 non-null  float64       \n",
      " 6   Device_Type                   50000 non-null  object        \n",
      " 7   Location                      50000 non-null  object        \n",
      " 8   Merchant_Category             50000 non-null  object        \n",
      " 9   IP_Address_Flag               50000 non-null  int64         \n",
      " 10  Previous_Fraudulent_Activity  50000 non-null  int64         \n",
      " 11  Daily_Transaction_Count       50000 non-null  int64         \n",
      " 12  Avg_Transaction_Amount_7d     50000 non-null  float64       \n",
      " 13  Failed_Transaction_Count_7d   50000 non-null  int64         \n",
      " 14  Card_Type                     50000 non-null  object        \n",
      " 15  Card_Age                      50000 non-null  int64         \n",
      " 16  Transaction_Distance          50000 non-null  float64       \n",
      " 17  Authentication_Method         50000 non-null  object        \n",
      " 18  Risk_Score                    50000 non-null  float64       \n",
      " 19  Is_Weekend                    50000 non-null  int64         \n",
      " 20  Fraud_Label                   50000 non-null  int64         \n",
      "dtypes: datetime64[ns](1), float64(5), int64(7), object(8)\n",
      "memory usage: 8.0+ MB\n"
     ]
    }
   ],
   "source": [
    "df.info()"
   ]
  },
  {
   "cell_type": "code",
   "execution_count": 8,
   "id": "bcc8b373",
   "metadata": {},
   "outputs": [
    {
     "data": {
      "text/plain": [
       "Transaction_ID                  0\n",
       "User_ID                         0\n",
       "Transaction_Amount              0\n",
       "Transaction_Type                0\n",
       "Timestamp                       0\n",
       "Account_Balance                 0\n",
       "Device_Type                     0\n",
       "Location                        0\n",
       "Merchant_Category               0\n",
       "IP_Address_Flag                 0\n",
       "Previous_Fraudulent_Activity    0\n",
       "Daily_Transaction_Count         0\n",
       "Avg_Transaction_Amount_7d       0\n",
       "Failed_Transaction_Count_7d     0\n",
       "Card_Type                       0\n",
       "Card_Age                        0\n",
       "Transaction_Distance            0\n",
       "Authentication_Method           0\n",
       "Risk_Score                      0\n",
       "Is_Weekend                      0\n",
       "Fraud_Label                     0\n",
       "dtype: int64"
      ]
     },
     "execution_count": 8,
     "metadata": {},
     "output_type": "execute_result"
    }
   ],
   "source": [
    "df.isna().sum()"
   ]
  },
  {
   "cell_type": "markdown",
   "id": "cb616cee-e270-4c76-ad72-e5451da3a7bb",
   "metadata": {},
   "source": [
    "Checks for missing values to determine if data cleaning is needed."
   ]
  },
  {
   "cell_type": "markdown",
   "id": "1af96788-f05a-4b6d-944f-b365bdda09cf",
   "metadata": {},
   "source": [
    "# Exploratory Data Analysis (EDA)"
   ]
  },
  {
   "cell_type": "code",
   "execution_count": 9,
   "id": "3442c67f",
   "metadata": {},
   "outputs": [
    {
     "data": {
      "image/png": "[encoded data removed]",
      "text/plain": [
       "<Figure size 640x480 with 1 Axes>"
      ]
     },
     "metadata": {},
     "output_type": "display_data"
    }
   ],
   "source": [
    "sns.countplot(x=df['Fraud_Label'], palette='coolwarm')\n",
    "plt.title(\"Fraud vs Non-Fraud Transactions\")\n",
    "plt.xlabel(\"Fraud Label (0 = Not Fraud, 1 = Fraud)\")\n",
    "plt.ylabel(\"Count\")\n",
    "plt.show()"
   ]
  },
  {
   "cell_type": "code",
   "execution_count": 14,
   "id": "6a4b63ab",
   "metadata": {},
   "outputs": [
    {
     "data": {
      "image/png": "[encoded data removed]",
      "text/plain": [
       "<Figure size 640x480 with 1 Axes>"
      ]
     },
     "metadata": {},
     "output_type": "display_data"
    }
   ],
   "source": [
    "df['Fraud_Label'] = df['Fraud_Label'].astype(str)\n",
    "sns.countplot(x = 'Merchant_Category', hue='Fraud_Label', data=df , palette='coolwarm')\n",
    "plt.xticks(rotation=45)\n",
    "plt.title(\"Fraud Count by Merchant Category\")\n",
    "plt.show()"
   ]
  },
  {
   "cell_type": "code",
   "execution_count": 15,
   "id": "5983c971",
   "metadata": {},
   "outputs": [
    {
     "data": {
      "image/png": "[encoded data removed]",
      "text/plain": [
       "<Figure size 640x480 with 1 Axes>"
      ]
     },
     "metadata": {},
     "output_type": "display_data"
    }
   ],
   "source": [
    "sns.countplot(x=df['Is_Weekend'], hue=df['Fraud_Label'], palette='coolwarm')\n",
    "plt.title(\"Fraud Transactions on Weekends vs Weekdays\")\n",
    "plt.xlabel(\"Is Weekend (0 = Weekday, 1 = Weekend)\")\n",
    "plt.ylabel(\"Count\")\n",
    "plt.show()"
   ]
  },
  {
   "cell_type": "code",
   "execution_count": 16,
   "id": "d429d127",
   "metadata": {},
   "outputs": [
    {
     "data": {
      "image/png": "[encoded data removed]",
      "text/plain": [
       "<Figure size 640x480 with 1 Axes>"
      ]
     },
     "metadata": {},
     "output_type": "display_data"
    }
   ],
   "source": [
    "sns.countplot(y=df['Location'], hue=df['Fraud_Label'], palette='coolwarm')\n",
    "plt.title(\"Fraud Count by City\")\n",
    "plt.xlabel(\"Count\")\n",
    "plt.ylabel(\"City\")\n",
    "plt.show()"
   ]
  },
  {
   "cell_type": "code",
   "execution_count": 17,
   "id": "3fe9d43d",
   "metadata": {},
   "outputs": [],
   "source": [
    "df['Transaction_Hour'] = df['Timestamp'].dt.hour\n",
    "df['Transaction_Day'] = df['Timestamp'].dt.day\n",
    "df['Transaction_Month'] = df['Timestamp'].dt.month\n",
    "df['Transaction_Weekday'] = df['Timestamp'].dt.weekday"
   ]
  },
  {
   "cell_type": "code",
   "execution_count": 18,
   "id": "6292135c",
   "metadata": {},
   "outputs": [],
   "source": [
    "df['Is_Weekend_Recomputed'] = df['Transaction_Weekday'].apply(lambda x: 1 if x >= 5 else 0)"
   ]
  },
  {
   "cell_type": "code",
   "execution_count": 19,
   "id": "5f74b22e",
   "metadata": {},
   "outputs": [],
   "source": [
    "df.drop(columns=['Transaction_ID','User_ID','Timestamp'], inplace=True)"
   ]
  },
  {
   "cell_type": "code",
   "execution_count": 20,
   "id": "3012831e",
   "metadata": {},
   "outputs": [
    {
     "data": {
      "text/plain": [
       "0"
      ]
     },
     "execution_count": 20,
     "metadata": {},
     "output_type": "execute_result"
    }
   ],
   "source": [
    "df.duplicated().sum()"
   ]
  },
  {
   "cell_type": "code",
   "execution_count": 21,
   "id": "686b18cd",
   "metadata": {},
   "outputs": [
    {
     "data": {
      "text/html": [
       "<div>\n",
       "<style scoped>\n",
       "    .dataframe tbody tr th:only-of-type {\n",
       "        vertical-align: middle;\n",
       "    }\n",
       "\n",
       "    .dataframe tbody tr th {\n",
       "        vertical-align: top;\n",
       "    }\n",
       "\n",
       "    .dataframe thead th {\n",
       "        text-align: right;\n",
       "    }\n",
       "</style>\n",
       "<table border=\"1\" class=\"dataframe\">\n",
       "  <thead>\n",
       "    <tr style=\"text-align: right;\">\n",
       "      <th></th>\n",
       "      <th>Transaction_Amount</th>\n",
       "      <th>Transaction_Type</th>\n",
       "      <th>Account_Balance</th>\n",
       "      <th>Device_Type</th>\n",
       "      <th>Location</th>\n",
       "      <th>Merchant_Category</th>\n",
       "      <th>IP_Address_Flag</th>\n",
       "      <th>Previous_Fraudulent_Activity</th>\n",
       "      <th>Daily_Transaction_Count</th>\n",
       "      <th>Avg_Transaction_Amount_7d</th>\n",
       "      <th>...</th>\n",
       "      <th>Transaction_Distance</th>\n",
       "      <th>Authentication_Method</th>\n",
       "      <th>Risk_Score</th>\n",
       "      <th>Is_Weekend</th>\n",
       "      <th>Fraud_Label</th>\n",
       "      <th>Transaction_Hour</th>\n",
       "      <th>Transaction_Day</th>\n",
       "      <th>Transaction_Month</th>\n",
       "      <th>Transaction_Weekday</th>\n",
       "      <th>Is_Weekend_Recomputed</th>\n",
       "    </tr>\n",
       "  </thead>\n",
       "  <tbody>\n",
       "    <tr>\n",
       "      <th>46772</th>\n",
       "      <td>238.60</td>\n",
       "      <td>Bank Transfer</td>\n",
       "      <td>66571.92</td>\n",
       "      <td>Mobile</td>\n",
       "      <td>Tokyo</td>\n",
       "      <td>Electronics</td>\n",
       "      <td>0</td>\n",
       "      <td>0</td>\n",
       "      <td>10</td>\n",
       "      <td>139.31</td>\n",
       "      <td>...</td>\n",
       "      <td>3423.68</td>\n",
       "      <td>Password</td>\n",
       "      <td>0.1813</td>\n",
       "      <td>0</td>\n",
       "      <td>0</td>\n",
       "      <td>3</td>\n",
       "      <td>30</td>\n",
       "      <td>5</td>\n",
       "      <td>1</td>\n",
       "      <td>0</td>\n",
       "    </tr>\n",
       "    <tr>\n",
       "      <th>20124</th>\n",
       "      <td>21.27</td>\n",
       "      <td>Online</td>\n",
       "      <td>7099.18</td>\n",
       "      <td>Mobile</td>\n",
       "      <td>Mumbai</td>\n",
       "      <td>Travel</td>\n",
       "      <td>0</td>\n",
       "      <td>0</td>\n",
       "      <td>8</td>\n",
       "      <td>377.02</td>\n",
       "      <td>...</td>\n",
       "      <td>3758.51</td>\n",
       "      <td>Biometric</td>\n",
       "      <td>0.0851</td>\n",
       "      <td>0</td>\n",
       "      <td>0</td>\n",
       "      <td>3</td>\n",
       "      <td>31</td>\n",
       "      <td>5</td>\n",
       "      <td>2</td>\n",
       "      <td>0</td>\n",
       "    </tr>\n",
       "    <tr>\n",
       "      <th>11105</th>\n",
       "      <td>263.56</td>\n",
       "      <td>POS</td>\n",
       "      <td>3483.25</td>\n",
       "      <td>Tablet</td>\n",
       "      <td>Tokyo</td>\n",
       "      <td>Restaurants</td>\n",
       "      <td>0</td>\n",
       "      <td>0</td>\n",
       "      <td>6</td>\n",
       "      <td>83.15</td>\n",
       "      <td>...</td>\n",
       "      <td>2769.23</td>\n",
       "      <td>PIN</td>\n",
       "      <td>0.3420</td>\n",
       "      <td>0</td>\n",
       "      <td>0</td>\n",
       "      <td>1</td>\n",
       "      <td>19</td>\n",
       "      <td>10</td>\n",
       "      <td>3</td>\n",
       "      <td>0</td>\n",
       "    </tr>\n",
       "    <tr>\n",
       "      <th>2167</th>\n",
       "      <td>85.56</td>\n",
       "      <td>Online</td>\n",
       "      <td>33575.51</td>\n",
       "      <td>Tablet</td>\n",
       "      <td>Tokyo</td>\n",
       "      <td>Travel</td>\n",
       "      <td>0</td>\n",
       "      <td>0</td>\n",
       "      <td>10</td>\n",
       "      <td>404.16</td>\n",
       "      <td>...</td>\n",
       "      <td>516.30</td>\n",
       "      <td>OTP</td>\n",
       "      <td>0.1869</td>\n",
       "      <td>0</td>\n",
       "      <td>0</td>\n",
       "      <td>12</td>\n",
       "      <td>27</td>\n",
       "      <td>5</td>\n",
       "      <td>5</td>\n",
       "      <td>1</td>\n",
       "    </tr>\n",
       "    <tr>\n",
       "      <th>10431</th>\n",
       "      <td>3.61</td>\n",
       "      <td>POS</td>\n",
       "      <td>50694.49</td>\n",
       "      <td>Tablet</td>\n",
       "      <td>Tokyo</td>\n",
       "      <td>Electronics</td>\n",
       "      <td>0</td>\n",
       "      <td>0</td>\n",
       "      <td>6</td>\n",
       "      <td>243.66</td>\n",
       "      <td>...</td>\n",
       "      <td>504.48</td>\n",
       "      <td>OTP</td>\n",
       "      <td>0.2198</td>\n",
       "      <td>0</td>\n",
       "      <td>0</td>\n",
       "      <td>21</td>\n",
       "      <td>10</td>\n",
       "      <td>11</td>\n",
       "      <td>4</td>\n",
       "      <td>0</td>\n",
       "    </tr>\n",
       "  </tbody>\n",
       "</table>\n",
       "<p>5 rows × 23 columns</p>\n",
       "</div>"
      ],
      "text/plain": [
       "       Transaction_Amount Transaction_Type  Account_Balance Device_Type  \\\n",
       "46772              238.60    Bank Transfer         66571.92      Mobile   \n",
       "20124               21.27           Online          7099.18      Mobile   \n",
       "11105              263.56              POS          3483.25      Tablet   \n",
       "2167                85.56           Online         33575.51      Tablet   \n",
       "10431                3.61              POS         50694.49      Tablet   \n",
       "\n",
       "      Location Merchant_Category  IP_Address_Flag  \\\n",
       "46772    Tokyo       Electronics                0   \n",
       "20124   Mumbai            Travel                0   \n",
       "11105    Tokyo       Restaurants                0   \n",
       "2167     Tokyo            Travel                0   \n",
       "10431    Tokyo       Electronics                0   \n",
       "\n",
       "       Previous_Fraudulent_Activity  Daily_Transaction_Count  \\\n",
       "46772                             0                       10   \n",
       "20124                             0                        8   \n",
       "11105                             0                        6   \n",
       "2167                              0                       10   \n",
       "10431                             0                        6   \n",
       "\n",
       "       Avg_Transaction_Amount_7d  ...  Transaction_Distance  \\\n",
       "46772                     139.31  ...               3423.68   \n",
       "20124                     377.02  ...               3758.51   \n",
       "11105                      83.15  ...               2769.23   \n",
       "2167                      404.16  ...                516.30   \n",
       "10431                     243.66  ...                504.48   \n",
       "\n",
       "      Authentication_Method  Risk_Score  Is_Weekend Fraud_Label  \\\n",
       "46772              Password      0.1813           0           0   \n",
       "20124             Biometric      0.0851           0           0   \n",
       "11105                   PIN      0.3420           0           0   \n",
       "2167                    OTP      0.1869           0           0   \n",
       "10431                   OTP      0.2198           0           0   \n",
       "\n",
       "       Transaction_Hour  Transaction_Day Transaction_Month  \\\n",
       "46772                 3               30                 5   \n",
       "20124                 3               31                 5   \n",
       "11105                 1               19                10   \n",
       "2167                 12               27                 5   \n",
       "10431                21               10                11   \n",
       "\n",
       "       Transaction_Weekday  Is_Weekend_Recomputed  \n",
       "46772                    1                      0  \n",
       "20124                    2                      0  \n",
       "11105                    3                      0  \n",
       "2167                     5                      1  \n",
       "10431                    4                      0  \n",
       "\n",
       "[5 rows x 23 columns]"
      ]
     },
     "execution_count": 21,
     "metadata": {},
     "output_type": "execute_result"
    }
   ],
   "source": [
    "df.sample(5)"
   ]
  },
  {
   "cell_type": "code",
   "execution_count": 22,
   "id": "13a7af0d",
   "metadata": {},
   "outputs": [],
   "source": [
    "df['IP_Address_Flag'] = df['IP_Address_Flag'].astype('float64')\n",
    "df['Previous_Fraudulent_Activity'] = df['Previous_Fraudulent_Activity'].astype('float64')\n",
    "df['Daily_Transaction_Count'] = df['Daily_Transaction_Count'].astype('float64')\n",
    "df['Failed_Transaction_Count_7d'] = df['Failed_Transaction_Count_7d'].astype('float64')\n",
    "df['Card_Age'] = df['Card_Age'].astype('float64')\n",
    "df['Is_Weekend'] = df['Is_Weekend'].astype('float64')\n",
    "df['Fraud_Label'] = df['Fraud_Label'].astype('float64')\n",
    "df['Transaction_Hour'] = df['Transaction_Hour'].astype('float64')\n",
    "df['Transaction_Day'] = df['Transaction_Day'].astype('float64')\n",
    "df['Transaction_Month'] = df['Transaction_Month'].astype('float64')\n",
    "df['Transaction_Weekday'] = df['Transaction_Weekday'].astype('float64')\n",
    "df['Is_Weekend_Recomputed'] = df['Is_Weekend_Recomputed'].astype('float64')"
   ]
  },
  {
   "cell_type": "code",
   "execution_count": 23,
   "id": "029cadde",
   "metadata": {
    "scrolled": true
   },
   "outputs": [
    {
     "data": {
      "text/plain": [
       "Transaction_Amount              float64\n",
       "Transaction_Type                 object\n",
       "Account_Balance                 float64\n",
       "Device_Type                      object\n",
       "Location                         object\n",
       "Merchant_Category                object\n",
       "IP_Address_Flag                 float64\n",
       "Previous_Fraudulent_Activity    float64\n",
       "Daily_Transaction_Count         float64\n",
       "Avg_Transaction_Amount_7d       float64\n",
       "Failed_Transaction_Count_7d     float64\n",
       "Card_Type                        object\n",
       "Card_Age                        float64\n",
       "Transaction_Distance            float64\n",
       "Authentication_Method            object\n",
       "Risk_Score                      float64\n",
       "Is_Weekend                      float64\n",
       "Fraud_Label                     float64\n",
       "Transaction_Hour                float64\n",
       "Transaction_Day                 float64\n",
       "Transaction_Month               float64\n",
       "Transaction_Weekday             float64\n",
       "Is_Weekend_Recomputed           float64\n",
       "dtype: object"
      ]
     },
     "execution_count": 23,
     "metadata": {},
     "output_type": "execute_result"
    }
   ],
   "source": [
    "df.dtypes"
   ]
  },
  {
   "cell_type": "code",
   "execution_count": 24,
   "id": "bacf82d0",
   "metadata": {},
   "outputs": [
    {
     "data": {
      "text/html": [
       "<div>\n",
       "<style scoped>\n",
       "    .dataframe tbody tr th:only-of-type {\n",
       "        vertical-align: middle;\n",
       "    }\n",
       "\n",
       "    .dataframe tbody tr th {\n",
       "        vertical-align: top;\n",
       "    }\n",
       "\n",
       "    .dataframe thead th {\n",
       "        text-align: right;\n",
       "    }\n",
       "</style>\n",
       "<table border=\"1\" class=\"dataframe\">\n",
       "  <thead>\n",
       "    <tr style=\"text-align: right;\">\n",
       "      <th></th>\n",
       "      <th>Transaction_Amount</th>\n",
       "      <th>Account_Balance</th>\n",
       "      <th>IP_Address_Flag</th>\n",
       "      <th>Previous_Fraudulent_Activity</th>\n",
       "      <th>Daily_Transaction_Count</th>\n",
       "      <th>Avg_Transaction_Amount_7d</th>\n",
       "      <th>Failed_Transaction_Count_7d</th>\n",
       "      <th>Card_Age</th>\n",
       "      <th>Transaction_Distance</th>\n",
       "      <th>Risk_Score</th>\n",
       "      <th>Is_Weekend</th>\n",
       "      <th>Fraud_Label</th>\n",
       "      <th>Transaction_Hour</th>\n",
       "      <th>Transaction_Day</th>\n",
       "      <th>Transaction_Month</th>\n",
       "      <th>Transaction_Weekday</th>\n",
       "      <th>Is_Weekend_Recomputed</th>\n",
       "    </tr>\n",
       "  </thead>\n",
       "  <tbody>\n",
       "    <tr>\n",
       "      <th>count</th>\n",
       "      <td>50000.000000</td>\n",
       "      <td>50000.000000</td>\n",
       "      <td>50000.00000</td>\n",
       "      <td>50000.000000</td>\n",
       "      <td>50000.000000</td>\n",
       "      <td>50000.000000</td>\n",
       "      <td>50000.000000</td>\n",
       "      <td>50000.000000</td>\n",
       "      <td>50000.000000</td>\n",
       "      <td>50000.000000</td>\n",
       "      <td>50000.000000</td>\n",
       "      <td>50000.000000</td>\n",
       "      <td>50000.000000</td>\n",
       "      <td>50000.000000</td>\n",
       "      <td>50000.000000</td>\n",
       "      <td>50000.000000</td>\n",
       "      <td>50000.000000</td>\n",
       "    </tr>\n",
       "    <tr>\n",
       "      <th>mean</th>\n",
       "      <td>99.411012</td>\n",
       "      <td>50294.065981</td>\n",
       "      <td>0.05020</td>\n",
       "      <td>0.098400</td>\n",
       "      <td>7.485240</td>\n",
       "      <td>255.271924</td>\n",
       "      <td>2.003540</td>\n",
       "      <td>119.999940</td>\n",
       "      <td>2499.164155</td>\n",
       "      <td>0.501556</td>\n",
       "      <td>0.299640</td>\n",
       "      <td>0.321340</td>\n",
       "      <td>11.516380</td>\n",
       "      <td>15.719320</td>\n",
       "      <td>6.527080</td>\n",
       "      <td>3.016660</td>\n",
       "      <td>0.289660</td>\n",
       "    </tr>\n",
       "    <tr>\n",
       "      <th>std</th>\n",
       "      <td>98.687292</td>\n",
       "      <td>28760.458557</td>\n",
       "      <td>0.21836</td>\n",
       "      <td>0.297858</td>\n",
       "      <td>4.039637</td>\n",
       "      <td>141.382279</td>\n",
       "      <td>1.414273</td>\n",
       "      <td>68.985817</td>\n",
       "      <td>1442.013834</td>\n",
       "      <td>0.287774</td>\n",
       "      <td>0.458105</td>\n",
       "      <td>0.466996</td>\n",
       "      <td>6.902383</td>\n",
       "      <td>8.804097</td>\n",
       "      <td>3.446364</td>\n",
       "      <td>2.001165</td>\n",
       "      <td>0.453609</td>\n",
       "    </tr>\n",
       "    <tr>\n",
       "      <th>min</th>\n",
       "      <td>0.000000</td>\n",
       "      <td>500.480000</td>\n",
       "      <td>0.00000</td>\n",
       "      <td>0.000000</td>\n",
       "      <td>1.000000</td>\n",
       "      <td>10.000000</td>\n",
       "      <td>0.000000</td>\n",
       "      <td>1.000000</td>\n",
       "      <td>0.250000</td>\n",
       "      <td>0.000100</td>\n",
       "      <td>0.000000</td>\n",
       "      <td>0.000000</td>\n",
       "      <td>0.000000</td>\n",
       "      <td>1.000000</td>\n",
       "      <td>1.000000</td>\n",
       "      <td>0.000000</td>\n",
       "      <td>0.000000</td>\n",
       "    </tr>\n",
       "    <tr>\n",
       "      <th>25%</th>\n",
       "      <td>28.677500</td>\n",
       "      <td>25355.995000</td>\n",
       "      <td>0.00000</td>\n",
       "      <td>0.000000</td>\n",
       "      <td>4.000000</td>\n",
       "      <td>132.087500</td>\n",
       "      <td>1.000000</td>\n",
       "      <td>60.000000</td>\n",
       "      <td>1256.497500</td>\n",
       "      <td>0.254000</td>\n",
       "      <td>0.000000</td>\n",
       "      <td>0.000000</td>\n",
       "      <td>6.000000</td>\n",
       "      <td>8.000000</td>\n",
       "      <td>4.000000</td>\n",
       "      <td>1.000000</td>\n",
       "      <td>0.000000</td>\n",
       "    </tr>\n",
       "    <tr>\n",
       "      <th>50%</th>\n",
       "      <td>69.660000</td>\n",
       "      <td>50384.430000</td>\n",
       "      <td>0.00000</td>\n",
       "      <td>0.000000</td>\n",
       "      <td>7.000000</td>\n",
       "      <td>256.085000</td>\n",
       "      <td>2.000000</td>\n",
       "      <td>120.000000</td>\n",
       "      <td>2490.785000</td>\n",
       "      <td>0.502250</td>\n",
       "      <td>0.000000</td>\n",
       "      <td>0.000000</td>\n",
       "      <td>12.000000</td>\n",
       "      <td>16.000000</td>\n",
       "      <td>7.000000</td>\n",
       "      <td>3.000000</td>\n",
       "      <td>0.000000</td>\n",
       "    </tr>\n",
       "    <tr>\n",
       "      <th>75%</th>\n",
       "      <td>138.852500</td>\n",
       "      <td>75115.135000</td>\n",
       "      <td>0.00000</td>\n",
       "      <td>0.000000</td>\n",
       "      <td>11.000000</td>\n",
       "      <td>378.032500</td>\n",
       "      <td>3.000000</td>\n",
       "      <td>180.000000</td>\n",
       "      <td>3746.395000</td>\n",
       "      <td>0.749525</td>\n",
       "      <td>1.000000</td>\n",
       "      <td>1.000000</td>\n",
       "      <td>17.000000</td>\n",
       "      <td>23.000000</td>\n",
       "      <td>10.000000</td>\n",
       "      <td>5.000000</td>\n",
       "      <td>1.000000</td>\n",
       "    </tr>\n",
       "    <tr>\n",
       "      <th>max</th>\n",
       "      <td>1174.140000</td>\n",
       "      <td>99998.310000</td>\n",
       "      <td>1.00000</td>\n",
       "      <td>1.000000</td>\n",
       "      <td>14.000000</td>\n",
       "      <td>500.000000</td>\n",
       "      <td>4.000000</td>\n",
       "      <td>239.000000</td>\n",
       "      <td>4999.930000</td>\n",
       "      <td>1.000000</td>\n",
       "      <td>1.000000</td>\n",
       "      <td>1.000000</td>\n",
       "      <td>23.000000</td>\n",
       "      <td>31.000000</td>\n",
       "      <td>12.000000</td>\n",
       "      <td>6.000000</td>\n",
       "      <td>1.000000</td>\n",
       "    </tr>\n",
       "  </tbody>\n",
       "</table>\n",
       "</div>"
      ],
      "text/plain": [
       "       Transaction_Amount  Account_Balance  IP_Address_Flag  \\\n",
       "count        50000.000000     50000.000000      50000.00000   \n",
       "mean            99.411012     50294.065981          0.05020   \n",
       "std             98.687292     28760.458557          0.21836   \n",
       "min              0.000000       500.480000          0.00000   \n",
       "25%             28.677500     25355.995000          0.00000   \n",
       "50%             69.660000     50384.430000          0.00000   \n",
       "75%            138.852500     75115.135000          0.00000   \n",
       "max           1174.140000     99998.310000          1.00000   \n",
       "\n",
       "       Previous_Fraudulent_Activity  Daily_Transaction_Count  \\\n",
       "count                  50000.000000             50000.000000   \n",
       "mean                       0.098400                 7.485240   \n",
       "std                        0.297858                 4.039637   \n",
       "min                        0.000000                 1.000000   \n",
       "25%                        0.000000                 4.000000   \n",
       "50%                        0.000000                 7.000000   \n",
       "75%                        0.000000                11.000000   \n",
       "max                        1.000000                14.000000   \n",
       "\n",
       "       Avg_Transaction_Amount_7d  Failed_Transaction_Count_7d      Card_Age  \\\n",
       "count               50000.000000                 50000.000000  50000.000000   \n",
       "mean                  255.271924                     2.003540    119.999940   \n",
       "std                   141.382279                     1.414273     68.985817   \n",
       "min                    10.000000                     0.000000      1.000000   \n",
       "25%                   132.087500                     1.000000     60.000000   \n",
       "50%                   256.085000                     2.000000    120.000000   \n",
       "75%                   378.032500                     3.000000    180.000000   \n",
       "max                   500.000000                     4.000000    239.000000   \n",
       "\n",
       "       Transaction_Distance    Risk_Score    Is_Weekend   Fraud_Label  \\\n",
       "count          50000.000000  50000.000000  50000.000000  50000.000000   \n",
       "mean            2499.164155      0.501556      0.299640      0.321340   \n",
       "std             1442.013834      0.287774      0.458105      0.466996   \n",
       "min                0.250000      0.000100      0.000000      0.000000   \n",
       "25%             1256.497500      0.254000      0.000000      0.000000   \n",
       "50%             2490.785000      0.502250      0.000000      0.000000   \n",
       "75%             3746.395000      0.749525      1.000000      1.000000   \n",
       "max             4999.930000      1.000000      1.000000      1.000000   \n",
       "\n",
       "       Transaction_Hour  Transaction_Day  Transaction_Month  \\\n",
       "count      50000.000000     50000.000000       50000.000000   \n",
       "mean          11.516380        15.719320           6.527080   \n",
       "std            6.902383         8.804097           3.446364   \n",
       "min            0.000000         1.000000           1.000000   \n",
       "25%            6.000000         8.000000           4.000000   \n",
       "50%           12.000000        16.000000           7.000000   \n",
       "75%           17.000000        23.000000          10.000000   \n",
       "max           23.000000        31.000000          12.000000   \n",
       "\n",
       "       Transaction_Weekday  Is_Weekend_Recomputed  \n",
       "count         50000.000000           50000.000000  \n",
       "mean              3.016660               0.289660  \n",
       "std               2.001165               0.453609  \n",
       "min               0.000000               0.000000  \n",
       "25%               1.000000               0.000000  \n",
       "50%               3.000000               0.000000  \n",
       "75%               5.000000               1.000000  \n",
       "max               6.000000               1.000000  "
      ]
     },
     "execution_count": 24,
     "metadata": {},
     "output_type": "execute_result"
    }
   ],
   "source": [
    "df.describe()"
   ]
  },
  {
   "cell_type": "code",
   "execution_count": 25,
   "id": "6c0745ee",
   "metadata": {},
   "outputs": [
    {
     "data": {
      "text/html": [
       "<div>\n",
       "<style scoped>\n",
       "    .dataframe tbody tr th:only-of-type {\n",
       "        vertical-align: middle;\n",
       "    }\n",
       "\n",
       "    .dataframe tbody tr th {\n",
       "        vertical-align: top;\n",
       "    }\n",
       "\n",
       "    .dataframe thead th {\n",
       "        text-align: right;\n",
       "    }\n",
       "</style>\n",
       "<table border=\"1\" class=\"dataframe\">\n",
       "  <thead>\n",
       "    <tr style=\"text-align: right;\">\n",
       "      <th></th>\n",
       "      <th>Transaction_Type</th>\n",
       "      <th>Device_Type</th>\n",
       "      <th>Location</th>\n",
       "      <th>Merchant_Category</th>\n",
       "      <th>Card_Type</th>\n",
       "      <th>Authentication_Method</th>\n",
       "    </tr>\n",
       "  </thead>\n",
       "  <tbody>\n",
       "    <tr>\n",
       "      <th>count</th>\n",
       "      <td>50000</td>\n",
       "      <td>50000</td>\n",
       "      <td>50000</td>\n",
       "      <td>50000</td>\n",
       "      <td>50000</td>\n",
       "      <td>50000</td>\n",
       "    </tr>\n",
       "    <tr>\n",
       "      <th>unique</th>\n",
       "      <td>4</td>\n",
       "      <td>3</td>\n",
       "      <td>5</td>\n",
       "      <td>5</td>\n",
       "      <td>4</td>\n",
       "      <td>4</td>\n",
       "    </tr>\n",
       "    <tr>\n",
       "      <th>top</th>\n",
       "      <td>POS</td>\n",
       "      <td>Tablet</td>\n",
       "      <td>Tokyo</td>\n",
       "      <td>Clothing</td>\n",
       "      <td>Mastercard</td>\n",
       "      <td>Biometric</td>\n",
       "    </tr>\n",
       "    <tr>\n",
       "      <th>freq</th>\n",
       "      <td>12549</td>\n",
       "      <td>16779</td>\n",
       "      <td>10208</td>\n",
       "      <td>10033</td>\n",
       "      <td>12693</td>\n",
       "      <td>12591</td>\n",
       "    </tr>\n",
       "  </tbody>\n",
       "</table>\n",
       "</div>"
      ],
      "text/plain": [
       "       Transaction_Type Device_Type Location Merchant_Category   Card_Type  \\\n",
       "count             50000       50000    50000             50000       50000   \n",
       "unique                4           3        5                 5           4   \n",
       "top                 POS      Tablet    Tokyo          Clothing  Mastercard   \n",
       "freq              12549       16779    10208             10033       12693   \n",
       "\n",
       "       Authentication_Method  \n",
       "count                  50000  \n",
       "unique                     4  \n",
       "top                Biometric  \n",
       "freq                   12591  "
      ]
     },
     "execution_count": 25,
     "metadata": {},
     "output_type": "execute_result"
    }
   ],
   "source": [
    "df.describe(include=[object])"
   ]
  },
  {
   "cell_type": "markdown",
   "id": "b64d4f1e-e10a-4de8-8961-000ee276ef0c",
   "metadata": {},
   "source": [
    "Provides statistical summaries of numerical features to understand data distribution."
   ]
  },
  {
   "cell_type": "code",
   "execution_count": 26,
   "id": "5cbcf793",
   "metadata": {},
   "outputs": [
    {
     "data": {
      "text/plain": [
       "<Axes: >"
      ]
     },
     "execution_count": 26,
     "metadata": {},
     "output_type": "execute_result"
    },
    {
     "data": {
      "image/png": "[encoded data removed]",
      "text/plain": [
       "<Figure size 2000x1000 with 1 Axes>"
      ]
     },
     "metadata": {},
     "output_type": "display_data"
    }
   ],
   "source": [
    "df.boxplot(figsize=(20,10))"
   ]
  },
  {
   "cell_type": "code",
   "execution_count": 27,
   "id": "4972e3af",
   "metadata": {},
   "outputs": [
    {
     "data": {
      "image/png": "[encoded data removed]",
      "text/plain": [
       "<Figure size 640x480 with 1 Axes>"
      ]
     },
     "metadata": {},
     "output_type": "display_data"
    },
    {
     "data": {
      "image/png": "[encoded data removed]",
      "text/plain": [
       "<Figure size 640x480 with 1 Axes>"
      ]
     },
     "metadata": {},
     "output_type": "display_data"
    }
   ],
   "source": [
    "sns.boxplot(y=df['Fraud_Label'])\n",
    "plt.title('Box Plot of Fraud_Label')\n",
    "plt.show()\n",
    "\n",
    "def remove_outliers_iqr(df, column):\n",
    "    Q1 = df[column].quantile(0.25)\n",
    "    Q3 = df[column].quantile(0.75)\n",
    "    IQR = Q3 - Q1\n",
    "    lower_bound = Q1 - 1.5 * IQR\n",
    "    upper_bound = Q3 + 1.5 * IQR\n",
    "    df_filtered = df[(df[column] >= lower_bound) & (df[column] <= upper_bound)]\n",
    "    return df_filtered\n",
    "\n",
    "df = remove_outliers_iqr(df, 'Fraud_Label')\n",
    "\n",
    "sns.boxplot(y=df['Fraud_Label'])\n",
    "plt.title('Box Plot of Fraud_Label (Outliers Removed)')\n",
    "plt.show()"
   ]
  },
  {
   "cell_type": "code",
   "execution_count": 28,
   "id": "8e2f77d8",
   "metadata": {},
   "outputs": [],
   "source": [
    "df=pd.get_dummies(df, columns=['Transaction_Type','Device_Type','Location','Merchant_Category','Card_Type','Authentication_Method'])"
   ]
  },
  {
   "cell_type": "code",
   "execution_count": 29,
   "id": "0cb507f9",
   "metadata": {},
   "outputs": [
    {
     "data": {
      "text/plain": [
       "(50000, 42)"
      ]
     },
     "execution_count": 29,
     "metadata": {},
     "output_type": "execute_result"
    }
   ],
   "source": [
    "df.shape"
   ]
  },
  {
   "cell_type": "code",
   "execution_count": 30,
   "id": "83569dd2",
   "metadata": {},
   "outputs": [
    {
     "data": {
      "text/html": [
       "<div>\n",
       "<style scoped>\n",
       "    .dataframe tbody tr th:only-of-type {\n",
       "        vertical-align: middle;\n",
       "    }\n",
       "\n",
       "    .dataframe tbody tr th {\n",
       "        vertical-align: top;\n",
       "    }\n",
       "\n",
       "    .dataframe thead th {\n",
       "        text-align: right;\n",
       "    }\n",
       "</style>\n",
       "<table border=\"1\" class=\"dataframe\">\n",
       "  <thead>\n",
       "    <tr style=\"text-align: right;\">\n",
       "      <th></th>\n",
       "      <th>Transaction_Amount</th>\n",
       "      <th>Account_Balance</th>\n",
       "      <th>IP_Address_Flag</th>\n",
       "      <th>Previous_Fraudulent_Activity</th>\n",
       "      <th>Daily_Transaction_Count</th>\n",
       "      <th>Avg_Transaction_Amount_7d</th>\n",
       "      <th>Failed_Transaction_Count_7d</th>\n",
       "      <th>Card_Age</th>\n",
       "      <th>Transaction_Distance</th>\n",
       "      <th>Risk_Score</th>\n",
       "      <th>...</th>\n",
       "      <th>Merchant_Category_Restaurants</th>\n",
       "      <th>Merchant_Category_Travel</th>\n",
       "      <th>Card_Type_Amex</th>\n",
       "      <th>Card_Type_Discover</th>\n",
       "      <th>Card_Type_Mastercard</th>\n",
       "      <th>Card_Type_Visa</th>\n",
       "      <th>Authentication_Method_Biometric</th>\n",
       "      <th>Authentication_Method_OTP</th>\n",
       "      <th>Authentication_Method_PIN</th>\n",
       "      <th>Authentication_Method_Password</th>\n",
       "    </tr>\n",
       "  </thead>\n",
       "  <tbody>\n",
       "    <tr>\n",
       "      <th>38205</th>\n",
       "      <td>135.66</td>\n",
       "      <td>28904.78</td>\n",
       "      <td>0.0</td>\n",
       "      <td>0.0</td>\n",
       "      <td>10.0</td>\n",
       "      <td>55.15</td>\n",
       "      <td>1.0</td>\n",
       "      <td>24.0</td>\n",
       "      <td>3233.68</td>\n",
       "      <td>0.5758</td>\n",
       "      <td>...</td>\n",
       "      <td>False</td>\n",
       "      <td>False</td>\n",
       "      <td>False</td>\n",
       "      <td>False</td>\n",
       "      <td>False</td>\n",
       "      <td>True</td>\n",
       "      <td>False</td>\n",
       "      <td>False</td>\n",
       "      <td>True</td>\n",
       "      <td>False</td>\n",
       "    </tr>\n",
       "    <tr>\n",
       "      <th>7042</th>\n",
       "      <td>7.33</td>\n",
       "      <td>97043.42</td>\n",
       "      <td>0.0</td>\n",
       "      <td>0.0</td>\n",
       "      <td>12.0</td>\n",
       "      <td>159.48</td>\n",
       "      <td>4.0</td>\n",
       "      <td>186.0</td>\n",
       "      <td>4459.36</td>\n",
       "      <td>0.9748</td>\n",
       "      <td>...</td>\n",
       "      <td>True</td>\n",
       "      <td>False</td>\n",
       "      <td>False</td>\n",
       "      <td>True</td>\n",
       "      <td>False</td>\n",
       "      <td>False</td>\n",
       "      <td>False</td>\n",
       "      <td>False</td>\n",
       "      <td>True</td>\n",
       "      <td>False</td>\n",
       "    </tr>\n",
       "    <tr>\n",
       "      <th>8951</th>\n",
       "      <td>40.22</td>\n",
       "      <td>14281.51</td>\n",
       "      <td>0.0</td>\n",
       "      <td>0.0</td>\n",
       "      <td>6.0</td>\n",
       "      <td>401.27</td>\n",
       "      <td>3.0</td>\n",
       "      <td>176.0</td>\n",
       "      <td>588.04</td>\n",
       "      <td>0.9519</td>\n",
       "      <td>...</td>\n",
       "      <td>True</td>\n",
       "      <td>False</td>\n",
       "      <td>True</td>\n",
       "      <td>False</td>\n",
       "      <td>False</td>\n",
       "      <td>False</td>\n",
       "      <td>True</td>\n",
       "      <td>False</td>\n",
       "      <td>False</td>\n",
       "      <td>False</td>\n",
       "    </tr>\n",
       "    <tr>\n",
       "      <th>37647</th>\n",
       "      <td>18.39</td>\n",
       "      <td>75567.25</td>\n",
       "      <td>0.0</td>\n",
       "      <td>0.0</td>\n",
       "      <td>12.0</td>\n",
       "      <td>493.13</td>\n",
       "      <td>3.0</td>\n",
       "      <td>50.0</td>\n",
       "      <td>688.12</td>\n",
       "      <td>0.4672</td>\n",
       "      <td>...</td>\n",
       "      <td>False</td>\n",
       "      <td>False</td>\n",
       "      <td>True</td>\n",
       "      <td>False</td>\n",
       "      <td>False</td>\n",
       "      <td>False</td>\n",
       "      <td>False</td>\n",
       "      <td>False</td>\n",
       "      <td>True</td>\n",
       "      <td>False</td>\n",
       "    </tr>\n",
       "    <tr>\n",
       "      <th>40901</th>\n",
       "      <td>111.70</td>\n",
       "      <td>9098.31</td>\n",
       "      <td>0.0</td>\n",
       "      <td>0.0</td>\n",
       "      <td>7.0</td>\n",
       "      <td>471.54</td>\n",
       "      <td>2.0</td>\n",
       "      <td>61.0</td>\n",
       "      <td>4082.97</td>\n",
       "      <td>0.1748</td>\n",
       "      <td>...</td>\n",
       "      <td>True</td>\n",
       "      <td>False</td>\n",
       "      <td>True</td>\n",
       "      <td>False</td>\n",
       "      <td>False</td>\n",
       "      <td>False</td>\n",
       "      <td>True</td>\n",
       "      <td>False</td>\n",
       "      <td>False</td>\n",
       "      <td>False</td>\n",
       "    </tr>\n",
       "  </tbody>\n",
       "</table>\n",
       "<p>5 rows × 42 columns</p>\n",
       "</div>"
      ],
      "text/plain": [
       "       Transaction_Amount  Account_Balance  IP_Address_Flag  \\\n",
       "38205              135.66         28904.78              0.0   \n",
       "7042                 7.33         97043.42              0.0   \n",
       "8951                40.22         14281.51              0.0   \n",
       "37647               18.39         75567.25              0.0   \n",
       "40901              111.70          9098.31              0.0   \n",
       "\n",
       "       Previous_Fraudulent_Activity  Daily_Transaction_Count  \\\n",
       "38205                           0.0                     10.0   \n",
       "7042                            0.0                     12.0   \n",
       "8951                            0.0                      6.0   \n",
       "37647                           0.0                     12.0   \n",
       "40901                           0.0                      7.0   \n",
       "\n",
       "       Avg_Transaction_Amount_7d  Failed_Transaction_Count_7d  Card_Age  \\\n",
       "38205                      55.15                          1.0      24.0   \n",
       "7042                      159.48                          4.0     186.0   \n",
       "8951                      401.27                          3.0     176.0   \n",
       "37647                     493.13                          3.0      50.0   \n",
       "40901                     471.54                          2.0      61.0   \n",
       "\n",
       "       Transaction_Distance  Risk_Score  ...  Merchant_Category_Restaurants  \\\n",
       "38205               3233.68      0.5758  ...                          False   \n",
       "7042                4459.36      0.9748  ...                           True   \n",
       "8951                 588.04      0.9519  ...                           True   \n",
       "37647                688.12      0.4672  ...                          False   \n",
       "40901               4082.97      0.1748  ...                           True   \n",
       "\n",
       "       Merchant_Category_Travel  Card_Type_Amex  Card_Type_Discover  \\\n",
       "38205                     False           False               False   \n",
       "7042                      False           False                True   \n",
       "8951                      False            True               False   \n",
       "37647                     False            True               False   \n",
       "40901                     False            True               False   \n",
       "\n",
       "       Card_Type_Mastercard  Card_Type_Visa  Authentication_Method_Biometric  \\\n",
       "38205                 False            True                            False   \n",
       "7042                  False           False                            False   \n",
       "8951                  False           False                             True   \n",
       "37647                 False           False                            False   \n",
       "40901                 False           False                             True   \n",
       "\n",
       "       Authentication_Method_OTP  Authentication_Method_PIN  \\\n",
       "38205                      False                       True   \n",
       "7042                       False                       True   \n",
       "8951                       False                      False   \n",
       "37647                      False                       True   \n",
       "40901                      False                      False   \n",
       "\n",
       "       Authentication_Method_Password  \n",
       "38205                           False  \n",
       "7042                            False  \n",
       "8951                            False  \n",
       "37647                           False  \n",
       "40901                           False  \n",
       "\n",
       "[5 rows x 42 columns]"
      ]
     },
     "execution_count": 30,
     "metadata": {},
     "output_type": "execute_result"
    }
   ],
   "source": [
    "df.sample(5)"
   ]
  },
  {
   "cell_type": "markdown",
   "id": "803dc122-dae1-4428-a1a3-edaea474cf97",
   "metadata": {},
   "source": [
    "# Model Selection & Training"
   ]
  },
  {
   "cell_type": "code",
   "execution_count": 31,
   "id": "ad5c0c35",
   "metadata": {},
   "outputs": [],
   "source": [
    "from sklearn.preprocessing import OneHotEncoder, StandardScaler, OrdinalEncoder,LabelEncoder\n",
    "from sklearn.model_selection import train_test_split\n",
    "from sklearn.metrics import confusion_matrix, accuracy_score, classification_report\n",
    "from sklearn.metrics import mean_squared_error, mean_absolute_error, r2_score"
   ]
  },
  {
   "cell_type": "code",
   "execution_count": 32,
   "id": "dcba2e0a",
   "metadata": {},
   "outputs": [],
   "source": [
    "X=df.drop(['Fraud_Label'],axis=1)\n",
    "y=df['Fraud_Label']"
   ]
  },
  {
   "cell_type": "code",
   "execution_count": 33,
   "id": "ba72ab76",
   "metadata": {},
   "outputs": [
    {
     "data": {
      "text/plain": [
       "Fraud_Label\n",
       "0.0    33933\n",
       "1.0    16067\n",
       "Name: count, dtype: int64"
      ]
     },
     "execution_count": 33,
     "metadata": {},
     "output_type": "execute_result"
    }
   ],
   "source": [
    "df[\"Fraud_Label\"].value_counts()"
   ]
  },
  {
   "cell_type": "code",
   "execution_count": 34,
   "id": "94bb2ab0",
   "metadata": {},
   "outputs": [],
   "source": [
    "X_train, X_test, y_train, y_test = train_test_split(X, y, test_size=0.2, random_state=42) "
   ]
  },
  {
   "cell_type": "code",
   "execution_count": 35,
   "id": "cf8c80d2",
   "metadata": {},
   "outputs": [
    {
     "name": "stdout",
     "output_type": "stream",
     "text": [
      "X_train shape: (40000, 41)\n",
      "X_test shape: (10000, 41)\n",
      "y_train shape: (40000,)\n",
      "y_test shape: (10000,)\n"
     ]
    }
   ],
   "source": [
    "print(\"X_train shape:\", X_train.shape)\n",
    "print(\"X_test shape:\", X_test.shape)\n",
    "print(\"y_train shape:\", y_train.shape)\n",
    "print(\"y_test shape:\", y_test.shape)"
   ]
  },
  {
   "cell_type": "code",
   "execution_count": 36,
   "id": "da060979",
   "metadata": {},
   "outputs": [
    {
     "name": "stdout",
     "output_type": "stream",
     "text": [
      "Mean Absolute Error: 0.30397333185310416\n",
      "Mean Squared Error: 0.1312249172624768\n",
      "R² Score: 0.40038260725789143\n"
     ]
    }
   ],
   "source": [
    "from sklearn.linear_model import LinearRegression\n",
    "\n",
    "model = LinearRegression()\n",
    "model.fit(X_train, y_train)\n",
    "y_pred = model.predict(X_test)\n",
    "mae = mean_absolute_error(y_test, y_pred)\n",
    "mse = mean_squared_error(y_test, y_pred)\n",
    "r2 = r2_score(y_test, y_pred)\n",
    "\n",
    "print(f'Mean Absolute Error: {mae}')\n",
    "print(f'Mean Squared Error: {mse}')\n",
    "print(f'R² Score: {r2}')"
   ]
  },
  {
   "cell_type": "code",
   "execution_count": 37,
   "id": "d3b08d24",
   "metadata": {},
   "outputs": [
    {
     "name": "stdout",
     "output_type": "stream",
     "text": [
      "R2 Score: 0.40038260725777, Mean Squared Error: 0.13122491726250338, Mean Absolute Error: 0.3039733318529396\n"
     ]
    }
   ],
   "source": [
    "from sklearn.preprocessing import PolynomialFeatures\n",
    "poly = PolynomialFeatures(degree=1)\n",
    "X_train_poly = poly.fit_transform(X_train)\n",
    "X_test_poly = poly.transform(X_test)\n",
    "\n",
    "model_poly = LinearRegression()\n",
    "model_poly.fit(X_train_poly, y_train)\n",
    "\n",
    "y_pred_poly = model_poly.predict(X_test_poly)\n",
    "r2_poly = r2_score(y_test, y_pred_poly)\n",
    "\n",
    "mse_test = mean_squared_error(y_test,y_pred_poly)\n",
    "mae_test = mean_absolute_error(y_test,y_pred_poly)\n",
    "print(f'R2 Score: {r2_poly}, Mean Squared Error: {mse_test}, Mean Absolute Error: {mae_test}')"
   ]
  },
  {
   "cell_type": "code",
   "execution_count": 38,
   "id": "fa9d43c0",
   "metadata": {},
   "outputs": [
    {
     "name": "stdout",
     "output_type": "stream",
     "text": [
      "Accuracy: 0.9994\n",
      "Confusion Matrix:\n",
      "[[6760    5]\n",
      " [   1 3234]]\n",
      "Classification Report:\n",
      "              precision    recall  f1-score   support\n",
      "\n",
      "         0.0       1.00      1.00      1.00      6765\n",
      "         1.0       1.00      1.00      1.00      3235\n",
      "\n",
      "    accuracy                           1.00     10000\n",
      "   macro avg       1.00      1.00      1.00     10000\n",
      "weighted avg       1.00      1.00      1.00     10000\n",
      "\n"
     ]
    }
   ],
   "source": [
    "import xgboost as xgb\n",
    "model = xgb.XGBClassifier(objective='binary:logistic', eval_metric='logloss')\n",
    "model.fit(X_train, y_train)\n",
    "y5_pred = model.predict(X_test)\n",
    "\n",
    "accuracy = accuracy_score(y_test, y5_pred)\n",
    "conf_matrix = confusion_matrix(y_test, y5_pred)\n",
    "class_report = classification_report(y_test, y5_pred)\n",
    "\n",
    "print(f'Accuracy: {accuracy}')\n",
    "print(f'Confusion Matrix:\\n{conf_matrix}')\n",
    "print(f'Classification Report:\\n{class_report}')"
   ]
  },
  {
   "cell_type": "code",
   "execution_count": null,
   "id": "7c79e077-235c-4876-9bc6-676897f9c4be",
   "metadata": {},
   "outputs": [],
   "source": []
  }
 ],
 "metadata": {
  "kernelspec": {
   "display_name": "Python 3 (ipykernel)",
   "language": "python",
   "name": "python3"
  },
  "language_info": {
   "codemirror_mode": {
    "name": "ipython",
    "version": 3
   },
   "file_extension": ".py",
   "mimetype": "text/x-python",
   "name": "python",
   "nbconvert_exporter": "python",
   "pygments_lexer": "ipython3",
   "version": "3.11.7"
  }
 },
 "nbformat": 4,
 "nbformat_minor": 5
}
