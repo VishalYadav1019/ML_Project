{
 "cells": [
  {
   "cell_type": "code",
   "execution_count": 1,
   "id": "9f9d1236-4c02-4562-8eba-fb30f4dd93a3",
   "metadata": {},
   "outputs": [],
   "source": [
    "import numpy as np"
   ]
  },
  {
   "cell_type": "code",
   "execution_count": 2,
   "id": "a0daa05b-45eb-4b8b-8abe-3a4ead5e05f6",
   "metadata": {},
   "outputs": [
    {
     "data": {
      "text/plain": [
       "array([1, 2, 3, 4, 4, 2])"
      ]
     },
     "execution_count": 2,
     "metadata": {},
     "output_type": "execute_result"
    }
   ],
   "source": [
    "a=np.array([1,2,3,4,4,2])\n",
    "a"
   ]
  },
  {
   "cell_type": "code",
   "execution_count": 3,
   "id": "590afd70-684e-4dd9-9f3d-6558dab86678",
   "metadata": {},
   "outputs": [
    {
     "data": {
      "text/plain": [
       "numpy.ndarray"
      ]
     },
     "execution_count": 3,
     "metadata": {},
     "output_type": "execute_result"
    }
   ],
   "source": [
    "type(a)"
   ]
  },
  {
   "cell_type": "code",
   "execution_count": 4,
   "id": "ab56b696-fce5-46f9-85c7-0fe45f65a93d",
   "metadata": {},
   "outputs": [
    {
     "data": {
      "text/plain": [
       "1"
      ]
     },
     "execution_count": 4,
     "metadata": {},
     "output_type": "execute_result"
    }
   ],
   "source": [
    "a.ndim"
   ]
  },
  {
   "cell_type": "code",
   "execution_count": 5,
   "id": "6f10d2aa-9b55-4721-a000-90b9c719d119",
   "metadata": {},
   "outputs": [
    {
     "name": "stdout",
     "output_type": "stream",
     "text": [
      "version =  1.26.4\n"
     ]
    }
   ],
   "source": [
    "print(\"version = \",np.__version__)  # check version"
   ]
  },
  {
   "cell_type": "code",
   "execution_count": 6,
   "id": "f9a74d4f-6954-4a0a-9c2c-a62405ed321b",
   "metadata": {},
   "outputs": [
    {
     "data": {
      "text/plain": [
       "array([[1, 2, 3, 4, 4, 2],\n",
       "       [1, 2, 3, 4, 2, 5]])"
      ]
     },
     "execution_count": 6,
     "metadata": {},
     "output_type": "execute_result"
    }
   ],
   "source": [
    "b=np.array([[1,2,3,4,4,2],[1,2,3,4,2,5]])\n",
    "b"
   ]
  },
  {
   "cell_type": "code",
   "execution_count": 7,
   "id": "d32626a5-a95f-42b3-9da1-2c80366d1de1",
   "metadata": {},
   "outputs": [
    {
     "name": "stdout",
     "output_type": "stream",
     "text": [
      "dimension =  2\n"
     ]
    }
   ],
   "source": [
    "print(\"dimension = \",b.ndim) # number of dimention check"
   ]
  },
  {
   "cell_type": "code",
   "execution_count": 8,
   "id": "ee24061c-33ae-4bdb-9c65-57645126f73d",
   "metadata": {},
   "outputs": [
    {
     "name": "stdout",
     "output_type": "stream",
     "text": [
      "shape =  (2, 6)\n"
     ]
    }
   ],
   "source": [
    "print(\"shape = \",b.shape)  # shape of the array"
   ]
  },
  {
   "cell_type": "code",
   "execution_count": 9,
   "id": "7aa438b2-86c1-46f5-a240-52481303c86d",
   "metadata": {},
   "outputs": [
    {
     "name": "stdout",
     "output_type": "stream",
     "text": [
      "[1 2 3 4 4 2]\n"
     ]
    }
   ],
   "source": [
    "print(b[0])"
   ]
  },
  {
   "cell_type": "code",
   "execution_count": 10,
   "id": "828ada2f-d894-4696-8f1c-83f03a9b0557",
   "metadata": {},
   "outputs": [
    {
     "name": "stdout",
     "output_type": "stream",
     "text": [
      "4\n"
     ]
    }
   ],
   "source": [
    "print(b[1,3])"
   ]
  },
  {
   "cell_type": "code",
   "execution_count": 11,
   "id": "dd201510-fc2f-47e4-aded-1b3b35e93dd1",
   "metadata": {},
   "outputs": [
    {
     "name": "stdout",
     "output_type": "stream",
     "text": [
      "[1 2 3 4]\n"
     ]
    }
   ],
   "source": [
    "print(b[1,0:4]) # using slicing and indexing"
   ]
  },
  {
   "cell_type": "code",
   "execution_count": 12,
   "id": "81fb1bd7-f64d-49db-8222-698493b56f6a",
   "metadata": {},
   "outputs": [
    {
     "name": "stdout",
     "output_type": "stream",
     "text": [
      "[[[[[3 2 7 9]\n",
      "    [7 8 9 2]]\n",
      "\n",
      "   [[3 4 1 2]\n",
      "    [8 6 7 8]]]]]\n"
     ]
    }
   ],
   "source": [
    "c = np.array([[[3,2,7,9],[7,8,9,2]],[[3,4,1,2],[8,6,7,8]]] , ndmin = 5) # declare number of dimension\n",
    "print(c)"
   ]
  },
  {
   "cell_type": "code",
   "execution_count": 13,
   "id": "c6863657-371a-4773-b658-df49bc80bb1c",
   "metadata": {},
   "outputs": [
    {
     "data": {
      "text/plain": [
       "5"
      ]
     },
     "execution_count": 13,
     "metadata": {},
     "output_type": "execute_result"
    }
   ],
   "source": [
    "c.ndim"
   ]
  },
  {
   "cell_type": "code",
   "execution_count": 14,
   "id": "f1f4cd3b-0b78-4cb9-ad8c-4900b8c7cd05",
   "metadata": {},
   "outputs": [
    {
     "data": {
      "text/plain": [
       "array([[[3, 2],\n",
       "        [7, 9],\n",
       "        [7, 8],\n",
       "        [9, 2]],\n",
       "\n",
       "       [[3, 4],\n",
       "        [1, 2],\n",
       "        [8, 6],\n",
       "        [7, 8]]])"
      ]
     },
     "execution_count": 14,
     "metadata": {},
     "output_type": "execute_result"
    }
   ],
   "source": [
    "c.reshape(2,4,2)"
   ]
  },
  {
   "cell_type": "code",
   "execution_count": 18,
   "id": "fd83cb9a-424a-4227-8fc2-0fc962813e58",
   "metadata": {},
   "outputs": [
    {
     "name": "stdout",
     "output_type": "stream",
     "text": [
      "[4 6 7 9]\n",
      "\n",
      "n: [4 6 7 9]\n"
     ]
    }
   ],
   "source": [
    "e = np.array([4,6,7,9])\n",
    "print(e)\n",
    "print()\n",
    "n = e.copy()\n",
    "print(\"n:\",n)"
   ]
  },
  {
   "cell_type": "code",
   "execution_count": 64,
   "id": "9966ab90-dc93-4a75-8715-cae9b5976e1d",
   "metadata": {},
   "outputs": [
    {
     "name": "stdout",
     "output_type": "stream",
     "text": [
      "[4 3 7 9]\n"
     ]
    }
   ],
   "source": [
    "n[1]=3\n",
    "print(n)"
   ]
  },
  {
   "cell_type": "code",
   "execution_count": 65,
   "id": "6852b739-9374-46ea-9a92-59de83b6432d",
   "metadata": {},
   "outputs": [
    {
     "name": "stdout",
     "output_type": "stream",
     "text": [
      "[4 6 7 9]\n",
      "[4 3 7 9]\n"
     ]
    }
   ],
   "source": [
    "print(e)\n",
    "print(n)"
   ]
  },
  {
   "cell_type": "code",
   "execution_count": 68,
   "id": "3a3a7ef2-897b-4c82-bb5a-7028e08007fb",
   "metadata": {},
   "outputs": [
    {
     "name": "stdout",
     "output_type": "stream",
     "text": [
      "[4 6 7 9]\n",
      "n1: [4 6 7 9]\n"
     ]
    }
   ],
   "source": [
    "e1 = np.array([4,6,7,9])\n",
    "print(e1)\n",
    "n1 = e1.view()\n",
    "print(\"n1:\",n1)"
   ]
  },
  {
   "cell_type": "code",
   "execution_count": 69,
   "id": "24c033d9-b4fc-47b0-8acc-424dbea248de",
   "metadata": {},
   "outputs": [
    {
     "name": "stdout",
     "output_type": "stream",
     "text": [
      "[ 4  6  7 16]\n"
     ]
    }
   ],
   "source": [
    "n1[3]=16\n",
    "print(n1)"
   ]
  },
  {
   "cell_type": "code",
   "execution_count": 70,
   "id": "da9b346d-a13e-40b6-bf10-66d79d4644d9",
   "metadata": {},
   "outputs": [
    {
     "name": "stdout",
     "output_type": "stream",
     "text": [
      "[ 4  6  7 16]\n",
      "[ 4  6  7 16]\n"
     ]
    }
   ],
   "source": [
    "print(n1)\n",
    "print(e1)"
   ]
  },
  {
   "cell_type": "code",
   "execution_count": 22,
   "id": "db2b7c57-dd6b-451d-abdb-6ef1e9cadfc0",
   "metadata": {},
   "outputs": [
    {
     "data": {
      "text/plain": [
       "array([-4, -1,  2,  4,  7,  8, 42])"
      ]
     },
     "execution_count": 22,
     "metadata": {},
     "output_type": "execute_result"
    }
   ],
   "source": [
    "# In numpy module sort method is used for sorting the array..\n",
    "ary=np.array([4,2,7,8,42,-1,-4])\n",
    "np.sort(ary)"
   ]
  },
  {
   "cell_type": "code",
   "execution_count": 29,
   "id": "f1598c03-0059-4c2b-b018-9ece64cfc0e3",
   "metadata": {},
   "outputs": [
    {
     "name": "stdout",
     "output_type": "stream",
     "text": [
      "[ 4  2  7  8 42 -1 -4]\n",
      "[ 4  2  7  8 42  0  0]\n"
     ]
    }
   ],
   "source": [
    "# numpy method \"where\" here we can use it\n",
    "print(ary)\n",
    "\n",
    "condition = ary < 0\n",
    "# if condition is true then print 0 ..\n",
    "# if condition is false then print same value in ary..\n",
    "\n",
    "print(np.where(condition , 0 ,ary))\n"
   ]
  },
  {
   "cell_type": "code",
   "execution_count": 34,
   "id": "120cdb02-3ef4-4282-9411-a4698f385df5",
   "metadata": {},
   "outputs": [
    {
     "data": {
      "text/plain": [
       "array([0., 0., 0., 0., 0.])"
      ]
     },
     "execution_count": 34,
     "metadata": {},
     "output_type": "execute_result"
    }
   ],
   "source": [
    "# here we have a \" zero() \" method for creating the array..\n",
    "np.zeros(5)"
   ]
  },
  {
   "cell_type": "code",
   "execution_count": 35,
   "id": "e3f19497-c593-466b-9db8-524e2fb2745d",
   "metadata": {},
   "outputs": [
    {
     "data": {
      "text/plain": [
       "array([1., 1., 1., 1., 1.])"
      ]
     },
     "execution_count": 35,
     "metadata": {},
     "output_type": "execute_result"
    }
   ],
   "source": [
    "# here we have a \" ones() \" method for creating the array..\n",
    "np.ones(5)"
   ]
  },
  {
   "cell_type": "code",
   "execution_count": null,
   "id": "7416edb9-3088-4286-b10f-c92b2f4cea69",
   "metadata": {},
   "outputs": [],
   "source": []
  }
 ],
 "metadata": {
  "kernelspec": {
   "display_name": "Python 3 (ipykernel)",
   "language": "python",
   "name": "python3"
  },
  "language_info": {
   "codemirror_mode": {
    "name": "ipython",
    "version": 3
   },
   "file_extension": ".py",
   "mimetype": "text/x-python",
   "name": "python",
   "nbconvert_exporter": "python",
   "pygments_lexer": "ipython3",
   "version": "3.11.7"
  }
 },
 "nbformat": 4,
 "nbformat_minor": 5
}
